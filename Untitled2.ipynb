{
  "nbformat": 4,
  "nbformat_minor": 0,
  "metadata": {
    "colab": {
      "provenance": [],
      "authorship_tag": "ABX9TyNmH6Lde9XiNE5ZD3wU+uKt",
      "include_colab_link": true
    },
    "kernelspec": {
      "name": "python3",
      "display_name": "Python 3"
    },
    "language_info": {
      "name": "python"
    }
  },
  "cells": [
    {
      "cell_type": "markdown",
      "metadata": {
        "id": "view-in-github",
        "colab_type": "text"
      },
      "source": [
        "<a href=\"https://colab.research.google.com/github/yoosufcancode/machinelearningCW/blob/main/Untitled2.ipynb\" target=\"_parent\"><img src=\"https://colab.research.google.com/assets/colab-badge.svg\" alt=\"Open In Colab\"/></a>"
      ]
    },
    {
      "cell_type": "code",
      "execution_count": null,
      "metadata": {
        "colab": {
          "base_uri": "https://localhost:8080/"
        },
        "id": "Z4PAFrAUCVtu",
        "outputId": "deb40e63-8a51-4724-b514-0251718a455e"
      },
      "outputs": [
        {
          "output_type": "stream",
          "name": "stdout",
          "text": [
            "Drive already mounted at /content/drive/; to attempt to forcibly remount, call drive.mount(\"/content/drive/\", force_remount=True).\n"
          ]
        }
      ],
      "source": [
        "#Loading the dataset\n",
        "from google.colab import drive\n",
        "drive.mount('/content/drive/')\n"
      ]
    },
    {
      "cell_type": "code",
      "source": [
        "# Set the path to the dataset file\n",
        "train_data_path = '/content/drive/My Drive/ML_CW_DATASET/adult.data'\n",
        "\n",
        "metadata1_path = '/content/drive/My Drive/ML_CW_DATASET/adult.names'\n",
        "\n",
        "test_data_path = '/content/drive/My Drive/ML_CW_DATASET/adult.test'\n",
        "\n",
        "index_path = '/content/drive/My Drive/ML_CW_DATASET/index'\n",
        "\n",
        "metadata2_path = '/content/drive/My Drive/ML_CW_DATASET/old.adult.names'"
      ],
      "metadata": {
        "id": "NVOzhn_YJ9zR"
      },
      "execution_count": null,
      "outputs": []
    },
    {
      "cell_type": "code",
      "source": [
        "# Import necessary libraries\n",
        "import pandas as pd\n",
        "from sklearn.model_selection import train_test_split\n",
        "from sklearn.preprocessing import OneHotEncoder\n",
        "from sklearn.naive_bayes import GaussianNB\n",
        "from sklearn.ensemble import RandomForestClassifier\n",
        "from sklearn.metrics import accuracy_score, classification_report"
      ],
      "metadata": {
        "id": "2cL8hEX-CsmP"
      },
      "execution_count": null,
      "outputs": []
    },
    {
      "cell_type": "code",
      "source": [
        "# Assuming that the .names file has been manually reviewed and the column names are known:\n",
        "column_names = ['age', 'workclass', 'fnlwgt', 'education', 'education-num', 'marital-status',\n",
        "                'occupation', 'relationship', 'race', 'sex', 'capital-gain', 'capital-loss',\n",
        "                'hours-per-week', 'native-country', 'income']\n",
        "\n",
        "# Load the training data\n",
        "train_df = pd.read_csv(train_data_path, names=column_names)\n",
        "\n",
        "# If the test data has a different format or a header row that needs to be skipped:\n",
        "test_df = pd.read_csv(test_data_path, names=column_names, skiprows=1)  # adjust if necessary\n"
      ],
      "metadata": {
        "id": "e_OI5URILabH"
      },
      "execution_count": null,
      "outputs": []
    }
  ]
}